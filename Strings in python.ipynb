{
 "cells": [
  {
   "cell_type": "markdown",
   "id": "34c0fb3a",
   "metadata": {},
   "source": [
    "A stings is a data type in python, composed of a collection of characters.\n",
    "i.e \"Simplilearn\",\"Version 1.4\"."
   ]
  },
  {
   "cell_type": "code",
   "execution_count": 1,
   "id": "10326bc1",
   "metadata": {},
   "outputs": [
    {
     "name": "stdout",
     "output_type": "stream",
     "text": [
      "Simplilearn\n"
     ]
    }
   ],
   "source": [
    "stg=\"Simplilearn\"\n",
    "print(stg)"
   ]
  },
  {
   "cell_type": "code",
   "execution_count": 3,
   "id": "3139d015",
   "metadata": {},
   "outputs": [
    {
     "name": "stdout",
     "output_type": "stream",
     "text": [
      "Tim's birthday\n"
     ]
    }
   ],
   "source": [
    "stg=\"Tim's birthday\"\n",
    "print(stg)"
   ]
  },
  {
   "cell_type": "code",
   "execution_count": 7,
   "id": "fad0995a",
   "metadata": {},
   "outputs": [
    {
     "name": "stdout",
     "output_type": "stream",
     "text": [
      "Tim said,\"I am busy today\".\n"
     ]
    }
   ],
   "source": [
    "stg='Tim said,\"I am busy today\".'\n",
    "print(stg)"
   ]
  },
  {
   "cell_type": "code",
   "execution_count": 8,
   "id": "cf23af52",
   "metadata": {},
   "outputs": [
    {
     "name": "stdout",
     "output_type": "stream",
     "text": [
      "hey there!\n",
      "Welcome to simplilearn\n"
     ]
    }
   ],
   "source": [
    "stg='''hey there!\n",
    "Welcome to simplilearn'''\n",
    "print(stg)"
   ]
  },
  {
   "cell_type": "code",
   "execution_count": 9,
   "id": "0dd9141d",
   "metadata": {},
   "outputs": [
    {
     "name": "stdout",
     "output_type": "stream",
     "text": [
      "11\n"
     ]
    }
   ],
   "source": [
    "stg=\"Simplilearn\"\n",
    "print(len(stg)) # for length"
   ]
  },
  {
   "cell_type": "code",
   "execution_count": 10,
   "id": "537687d2",
   "metadata": {},
   "outputs": [
    {
     "name": "stdout",
     "output_type": "stream",
     "text": [
      "i\n"
     ]
    }
   ],
   "source": [
    "print(stg[5])"
   ]
  },
  {
   "cell_type": "code",
   "execution_count": 11,
   "id": "2b6d64af",
   "metadata": {},
   "outputs": [
    {
     "name": "stdout",
     "output_type": "stream",
     "text": [
      "Simpl\n"
     ]
    }
   ],
   "source": [
    "print(stg[0:5])"
   ]
  },
  {
   "cell_type": "code",
   "execution_count": 12,
   "id": "2c1b9a5e",
   "metadata": {},
   "outputs": [
    {
     "name": "stdout",
     "output_type": "stream",
     "text": [
      "Simpl\n"
     ]
    }
   ],
   "source": [
    "print(stg[:5])"
   ]
  },
  {
   "cell_type": "code",
   "execution_count": 13,
   "id": "407a54c2",
   "metadata": {},
   "outputs": [
    {
     "name": "stdout",
     "output_type": "stream",
     "text": [
      "ilearn\n"
     ]
    }
   ],
   "source": [
    "print(stg[5:])"
   ]
  },
  {
   "cell_type": "code",
   "execution_count": 14,
   "id": "240e427d",
   "metadata": {},
   "outputs": [
    {
     "name": "stdout",
     "output_type": "stream",
     "text": [
      "mpl\n"
     ]
    }
   ],
   "source": [
    "print(stg[2:5])"
   ]
  },
  {
   "cell_type": "code",
   "execution_count": 15,
   "id": "6c03acea",
   "metadata": {},
   "outputs": [
    {
     "name": "stdout",
     "output_type": "stream",
     "text": [
      "WELCOME TO SIMPLILEARN\n"
     ]
    }
   ],
   "source": [
    "stg=\"Welcome to simplilearn\"\n",
    "print(stg.upper()) # to print in capital letter"
   ]
  },
  {
   "cell_type": "code",
   "execution_count": 16,
   "id": "d48edb37",
   "metadata": {},
   "outputs": [
    {
     "name": "stdout",
     "output_type": "stream",
     "text": [
      "welcome to simplilearn\n"
     ]
    }
   ],
   "source": [
    "print(stg.lower())"
   ]
  },
  {
   "cell_type": "code",
   "execution_count": 18,
   "id": "cc3a84ea",
   "metadata": {},
   "outputs": [
    {
     "name": "stdout",
     "output_type": "stream",
     "text": [
      "11\n"
     ]
    }
   ],
   "source": [
    "print(stg.find('s'))"
   ]
  },
  {
   "cell_type": "code",
   "execution_count": 19,
   "id": "de400386",
   "metadata": {},
   "outputs": [
    {
     "name": "stdout",
     "output_type": "stream",
     "text": [
      "2\n"
     ]
    }
   ],
   "source": [
    "print(stg.index('l'))"
   ]
  },
  {
   "cell_type": "code",
   "execution_count": 20,
   "id": "69023c3c",
   "metadata": {},
   "outputs": [
    {
     "name": "stdout",
     "output_type": "stream",
     "text": [
      "['Welcome', 'to', 'simplilearn']\n"
     ]
    }
   ],
   "source": [
    "print(stg.split())"
   ]
  },
  {
   "cell_type": "code",
   "execution_count": 21,
   "id": "e959a870",
   "metadata": {},
   "outputs": [
    {
     "name": "stdout",
     "output_type": "stream",
     "text": [
      "['Welcome', 'to', 'simplilearn']\n"
     ]
    }
   ],
   "source": [
    "print(stg.split(\" \"))"
   ]
  },
  {
   "cell_type": "code",
   "execution_count": 22,
   "id": "cdf2313d",
   "metadata": {},
   "outputs": [
    {
     "name": "stdout",
     "output_type": "stream",
     "text": [
      "['Welcome', 'to', 'simplilearn']\n"
     ]
    }
   ],
   "source": [
    "x=stg.split(\" \")\n",
    "print(x)"
   ]
  },
  {
   "cell_type": "code",
   "execution_count": 23,
   "id": "fff67545",
   "metadata": {},
   "outputs": [
    {
     "name": "stdout",
     "output_type": "stream",
     "text": [
      "Welcome to Python tutorial\n"
     ]
    }
   ],
   "source": [
    "print(stg.replace(\"simplilearn\",\"Python tutorial\"))"
   ]
  },
  {
   "cell_type": "code",
   "execution_count": 25,
   "id": "3af4b426",
   "metadata": {},
   "outputs": [
    {
     "data": {
      "text/plain": [
       "('Welcome', ' to ', 'simplilearn')"
      ]
     },
     "execution_count": 25,
     "metadata": {},
     "output_type": "execute_result"
    }
   ],
   "source": [
    "stg.rpartition(\" to \")"
   ]
  },
  {
   "cell_type": "code",
   "execution_count": 26,
   "id": "fbe26bb8",
   "metadata": {},
   "outputs": [
    {
     "name": "stdout",
     "output_type": "stream",
     "text": [
      "good morning\n"
     ]
    }
   ],
   "source": [
    "stg1=\"good\"\n",
    "stg2=\"morning\"\n",
    "stg=stg1+\" \"+stg2\n",
    "print(stg)"
   ]
  },
  {
   "cell_type": "code",
   "execution_count": 27,
   "id": "efb1d0fb",
   "metadata": {},
   "outputs": [
    {
     "name": "stdout",
     "output_type": "stream",
     "text": [
      "Hey there, all!\n"
     ]
    }
   ],
   "source": [
    "stg1=\"Hey\"\n",
    "stg2=\"there\"\n",
    "stg3=\"all\"\n",
    "stg=\"{} {}, {}!\".format(stg1,stg2,stg3)\n",
    "print(stg)"
   ]
  },
  {
   "cell_type": "code",
   "execution_count": null,
   "id": "dc5cfd34",
   "metadata": {},
   "outputs": [],
   "source": []
  }
 ],
 "metadata": {
  "kernelspec": {
   "display_name": "Python 3 (ipykernel)",
   "language": "python",
   "name": "python3"
  },
  "language_info": {
   "codemirror_mode": {
    "name": "ipython",
    "version": 3
   },
   "file_extension": ".py",
   "mimetype": "text/x-python",
   "name": "python",
   "nbconvert_exporter": "python",
   "pygments_lexer": "ipython3",
   "version": "3.9.13"
  }
 },
 "nbformat": 4,
 "nbformat_minor": 5
}
