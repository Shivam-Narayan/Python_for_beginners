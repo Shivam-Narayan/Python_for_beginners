{
 "cells": [
  {
   "cell_type": "code",
   "execution_count": null,
   "id": "9de968a5",
   "metadata": {},
   "outputs": [],
   "source": [
    "Syntax - if condition\n",
    "         statements to execute if\n",
    "         condition is true"
   ]
  },
  {
   "cell_type": "code",
   "execution_count": 2,
   "id": "5f440079",
   "metadata": {},
   "outputs": [
    {
     "name": "stdout",
     "output_type": "stream",
     "text": [
      "This is the if body\n",
      "This is outside the if block\n"
     ]
    }
   ],
   "source": [
    "a=60\n",
    "if a>50 :\n",
    "    print(\"This is the if body\")\n",
    "print(\"This is outside the if block\")    "
   ]
  },
  {
   "cell_type": "markdown",
   "id": "7aff2b51",
   "metadata": {},
   "source": [
    "# if else statement"
   ]
  },
  {
   "cell_type": "code",
   "execution_count": 4,
   "id": "038ce12c",
   "metadata": {},
   "outputs": [
    {
     "ename": "IndentationError",
     "evalue": "unindent does not match any outer indentation level (<tokenize>, line 4)",
     "output_type": "error",
     "traceback": [
      "\u001b[1;36m  File \u001b[1;32m\"<tokenize>\"\u001b[1;36m, line \u001b[1;32m4\u001b[0m\n\u001b[1;33m    else:\u001b[0m\n\u001b[1;37m    ^\u001b[0m\n\u001b[1;31mIndentationError\u001b[0m\u001b[1;31m:\u001b[0m unindent does not match any outer indentation level\n"
     ]
    }
   ],
   "source": [
    "Syntax - if(condition)\n",
    "         Executes this block if\n",
    "         condition is true\n",
    "        else:\n",
    "            Executes this block if\n",
    "            condition is false"
   ]
  },
  {
   "cell_type": "code",
   "execution_count": 7,
   "id": "e7787ca0",
   "metadata": {},
   "outputs": [
    {
     "name": "stdout",
     "output_type": "stream",
     "text": [
      "This is the if block\n",
      "i is an even number\n"
     ]
    }
   ],
   "source": [
    "i=30\n",
    "if i%2==0:\n",
    "    print(\"This is the if block\")\n",
    "    print(\"i is an even number\")\n",
    "else:\n",
    "    print(\"This is the else block\")\n",
    "    print(\"i is an odd number\")"
   ]
  },
  {
   "cell_type": "code",
   "execution_count": 8,
   "id": "711efcb6",
   "metadata": {},
   "outputs": [
    {
     "name": "stdout",
     "output_type": "stream",
     "text": [
      "This is the else block\n",
      "i is an odd number\n"
     ]
    }
   ],
   "source": [
    "i=33\n",
    "if i%2==0:\n",
    "    print(\"This is the if block\")\n",
    "    print(\"i is an even number\")\n",
    "else:\n",
    "    print(\"This is the else block\")\n",
    "    print(\"i is an odd number\")"
   ]
  },
  {
   "cell_type": "markdown",
   "id": "2f43f31f",
   "metadata": {},
   "source": [
    "# Nested if Statement"
   ]
  },
  {
   "cell_type": "code",
   "execution_count": 11,
   "id": "3eaf8a0d",
   "metadata": {},
   "outputs": [
    {
     "ename": "IndentationError",
     "evalue": "unindent does not match any outer indentation level (<tokenize>, line 3)",
     "output_type": "error",
     "traceback": [
      "\u001b[1;36m  File \u001b[1;32m\"<tokenize>\"\u001b[1;36m, line \u001b[1;32m3\u001b[0m\n\u001b[1;33m    if(condition2):\u001b[0m\n\u001b[1;37m    ^\u001b[0m\n\u001b[1;31mIndentationError\u001b[0m\u001b[1;31m:\u001b[0m unindent does not match any outer indentation level\n"
     ]
    }
   ],
   "source": [
    "Syntax - if(condition1):\n",
    "         executes if condition1 is true\n",
    "        if(condition2):\n",
    "            executes if condition2 is true\n",
    "      #condition2 ends here\n",
    "    #condition1 ends here"
   ]
  },
  {
   "cell_type": "code",
   "execution_count": 1,
   "id": "ba61ec03",
   "metadata": {},
   "outputs": [
    {
     "name": "stdout",
     "output_type": "stream",
     "text": [
      "Enter the number55\n",
      "c is greater than 25\n"
     ]
    }
   ],
   "source": [
    "num=int(input(\"Enter the number\"))\n",
    "if num<25:\n",
    "    if num%2==0:\n",
    "        print(\"c is an even number less than 25\")\n",
    "    else:\n",
    "        print(\"c is an odd number less than 25\")\n",
    "else:\n",
    "    print(\"c is greater than 25\")\n",
    "    "
   ]
  },
  {
   "cell_type": "markdown",
   "id": "eead18ae",
   "metadata": {},
   "source": [
    "# If-elif-else ladder"
   ]
  },
  {
   "cell_type": "code",
   "execution_count": 4,
   "id": "2c31bd01",
   "metadata": {},
   "outputs": [
    {
     "name": "stdout",
     "output_type": "stream",
     "text": [
      "Enter the letter:a\n",
      "This is the vowel a\n"
     ]
    }
   ],
   "source": [
    "var=input(\"Enter the letter:\")\n",
    "if var=='a':\n",
    "    print(\"This is the vowel a\")\n",
    "elif var=='e':\n",
    "    print(\"This is the vowel e\")\n",
    "elif var=='i':\n",
    "    print(\"This is the vowel i\")\n",
    "elif var==\"o\":\n",
    "    print(\"This is the vowel o\")\n",
    "elif var==\"u\":\n",
    "    print(\"This is the vowel u\")\n",
    "else:\n",
    "    print(\"This is a consonant\")\n"
   ]
  },
  {
   "cell_type": "code",
   "execution_count": null,
   "id": "d136fed8",
   "metadata": {},
   "outputs": [],
   "source": []
  }
 ],
 "metadata": {
  "kernelspec": {
   "display_name": "Python 3 (ipykernel)",
   "language": "python",
   "name": "python3"
  },
  "language_info": {
   "codemirror_mode": {
    "name": "ipython",
    "version": 3
   },
   "file_extension": ".py",
   "mimetype": "text/x-python",
   "name": "python",
   "nbconvert_exporter": "python",
   "pygments_lexer": "ipython3",
   "version": "3.9.13"
  }
 },
 "nbformat": 4,
 "nbformat_minor": 5
}
